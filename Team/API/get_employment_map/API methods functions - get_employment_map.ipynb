{
 "cells": [
  {
   "cell_type": "code",
   "execution_count": 123,
   "metadata": {},
   "outputs": [],
   "source": [
    "# Import Dependencies\n",
    "import pandas as pd\n",
    "from pathlib import Path\n",
    "from sqlalchemy import create_engine, text\n",
    "import geopandas as gpd"
   ]
  },
  {
   "cell_type": "markdown",
   "metadata": {},
   "source": [
    "# Generic and custom queries to the database"
   ]
  },
  {
   "cell_type": "code",
   "execution_count": 124,
   "metadata": {},
   "outputs": [],
   "source": [
    "# Connect to database\n",
    "database_path = Path(\"data.sqlite\")\n",
    "\n",
    "engine = create_engine(f\"sqlite:///{database_path}\")"
   ]
  },
  {
   "cell_type": "code",
   "execution_count": 125,
   "metadata": {},
   "outputs": [],
   "source": [
    "# Get GeoJSON data for state and county boundaries\n",
    "\n",
    "states = gpd.read_file(\"https://www2.census.gov/geo/tiger/GENZ2021/shp/cb_2021_us_state_500k.zip\")\n",
    "counties = gpd.read_file(\"https://www2.census.gov/geo/tiger/GENZ2021/shp/cb_2021_us_county_500k.zip\")"
   ]
  },
  {
   "cell_type": "code",
   "execution_count": 126,
   "metadata": {},
   "outputs": [],
   "source": [
    "# Keep only main states data\n",
    "states = states[(states[\"GEOID\"] <= \"56\")]\n",
    "\n",
    "counties = counties[(counties[\"STATEFP\"] <= \"56\")]"
   ]
  },
  {
   "cell_type": "markdown",
   "metadata": {},
   "source": [
    "## Generic queries"
   ]
  },
  {
   "cell_type": "code",
   "execution_count": 128,
   "metadata": {},
   "outputs": [],
   "source": [
    "def get_employment_map(state_code, industry_code, reduction):\n",
    "    # Check the area level\n",
    "    # use national or state SQL query depending on the user selection for state_code\n",
    "    if :\n",
    "        select_statement = f\"\"\"\n",
    "\n",
    "        \"\"\"\n",
    "    else:\n",
    "        select_statement = f\"\"\"\n",
    "\n",
    "        \"\"\"\n",
    "\n",
    "    print(select_statement)\n",
    "\n",
    "    # Execute the query\n",
    "    with engine.connect() as connection:\n",
    "\n",
    "        query = text(select_statement) \n",
    "        result = connection.execute(query)\n",
    "        \n",
    "        # Convert result to a list of dictionaries\n",
    "        result_list = [dict(row) for row in result]\n",
    "\n",
    "    # Convert result to DataFrame to simplify calculations\n",
    "    df = pd.DataFrame(result_list)\n",
    "\n",
    "    # Calculate current share of industry by employment - current_industry_share\n",
    "\n",
    "\n",
    "    # Calculate reduced share of industry by employment - reduced_industry_share\n",
    "\n",
    "\n",
    "    # Adding geo data\n",
    "    # Depending of the area selection (national or a particular state), creating geoPandas DataFrame\n",
    "    if state_code == \"US\":\n",
    "        # Create a copy of states GeoPandas DataFrame\n",
    "        geoPandas = states.copy()\n",
    "\n",
    "        # Merge states geoJSON with a metric\n",
    "        geoPandas = geoPandas.merge(df, how=\"inner\", left_on=\"STUSPS\", right_on=\"state_code\")\n",
    "\n",
    "        # Drop unnecessary column\n",
    "        geoPandas.drop(columns=\"state_code\", inplace=True)\n",
    "    else:\n",
    "        # Create a copy of states GeoPandas DataFrame\n",
    "        geoPandas = counties.copy()\n",
    "\n",
    "        # Merge states geoJSON with a metric\n",
    "        geoPandas = geoPandas.merge(df, how=\"inner\", left_on=[\"STUSPS\", \"NAME\"], right_on=[\"state_code\", \"county_name\"])\n",
    "\n",
    "        # Drop unnecessary columns\n",
    "        geoPandas.drop(columns=[\"state_code\", \"county_name\"], inplace=True)\n",
    "\n",
    "    # Convert result to GeoJSON\n",
    "    return geoPandas.to_json()"
   ]
  },
  {
   "cell_type": "code",
   "execution_count": null,
   "metadata": {},
   "outputs": [],
   "source": [
    "get_employment_map(state_code=\"US\", industry_code=1011, reduction=15)"
   ]
  },
  {
   "cell_type": "code",
   "execution_count": null,
   "metadata": {},
   "outputs": [],
   "source": [
    "def get_states():\n",
    "    select_statement = f\"\"\"\n",
    "    SELECT state_code,\n",
    "           state_name\n",
    "        FROM state\n",
    "    \"\"\"\n",
    "\n",
    "    print(select_statement)\n",
    "\n",
    "    with engine.connect() as connection:\n",
    "\n",
    "        query = text(select_statement) \n",
    "        result = connection.execute(query)\n",
    "        \n",
    "        # Convert result to a list of dictionaries\n",
    "        result_list = [dict(row) for row in result]\n",
    "\n",
    "    return result_list"
   ]
  },
  {
   "cell_type": "code",
   "execution_count": null,
   "metadata": {},
   "outputs": [],
   "source": [
    "get_states()"
   ]
  }
 ],
 "metadata": {
  "kernelspec": {
   "display_name": "Python 3 (ipykernel)",
   "language": "python",
   "name": "python3"
  },
  "language_info": {
   "codemirror_mode": {
    "name": "ipython",
    "version": 3
   },
   "file_extension": ".py",
   "mimetype": "text/x-python",
   "name": "python",
   "nbconvert_exporter": "python",
   "pygments_lexer": "ipython3",
   "version": "3.11.4"
  },
  "nteract": {
   "version": "0.11.9"
  }
 },
 "nbformat": 4,
 "nbformat_minor": 2
}
