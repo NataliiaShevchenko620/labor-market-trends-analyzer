{
 "cells": [
  {
   "cell_type": "code",
   "execution_count": 123,
   "metadata": {},
   "outputs": [],
   "source": [
    "# Import Dependencies\n",
    "import pandas as pd\n",
    "from pathlib import Path\n",
    "from sqlalchemy import create_engine, text"
   ]
  },
  {
   "cell_type": "markdown",
   "metadata": {},
   "source": [
    "# Generic and custom queries to the database"
   ]
  },
  {
   "cell_type": "code",
   "execution_count": 124,
   "metadata": {},
   "outputs": [],
   "source": [
    "# Connect to database\n",
    "database_path = Path(\"data.sqlite\")\n",
    "\n",
    "engine = create_engine(f\"sqlite:///{database_path}\")"
   ]
  },
  {
   "cell_type": "markdown",
   "metadata": {},
   "source": [
    "## Generic queries"
   ]
  },
  {
   "cell_type": "code",
   "execution_count": 132,
   "metadata": {},
   "outputs": [],
   "source": [
    "def get_unemployment_rate(state_code, industry_code, reduction):\n",
    "    # Check the area level\n",
    "    # use national or state SQL query depending on the user selection for state_code\n",
    "    if :\n",
    "        select_statement = f\"\"\"\n",
    "\n",
    "        \"\"\"\n",
    "    else:\n",
    "        select_statement = f\"\"\"\n",
    "\n",
    "        \"\"\"\n",
    "\n",
    "    print(select_statement)\n",
    "\n",
    "    # Execute the query\n",
    "    with engine.connect() as connection:\n",
    "\n",
    "        query = text(select_statement) \n",
    "        result = connection.execute(query)\n",
    "        \n",
    "        # Convert result to a list of dictionaries\n",
    "        result_list = [dict(row) for row in result]\n",
    "\n",
    "    # Convert result to DataFrame to simplify calculations\n",
    "    df = pd.DataFrame(result_list)\n",
    "\n",
    "    # Calculate current unemployment rate - unemployment_rate\n",
    "\n",
    "\n",
    "    # Calculate average current unemployment rate - average\n",
    "\n",
    "\n",
    "    # Calculate forecasted unemployment rate, if employment in a particular industry is reduced - forecasted_unemployment_rate\n",
    "\n",
    "\n",
    "    # Convert back to the list of dictionaries\n",
    "    return df.to_dict('records')"
   ]
  },
  {
   "cell_type": "code",
   "execution_count": null,
   "metadata": {},
   "outputs": [],
   "source": [
    "get_unemployment_rate(state_code=\"US\", industry_code=1011, reduction=15)"
   ]
  },
  {
   "cell_type": "code",
   "execution_count": null,
   "metadata": {},
   "outputs": [],
   "source": [
    "def get_states():\n",
    "    select_statement = f\"\"\"\n",
    "    SELECT state_code,\n",
    "           state_name\n",
    "        FROM state\n",
    "    \"\"\"\n",
    "\n",
    "    print(select_statement)\n",
    "\n",
    "    with engine.connect() as connection:\n",
    "\n",
    "        query = text(select_statement) \n",
    "        result = connection.execute(query)\n",
    "        \n",
    "        # Convert result to a list of dictionaries\n",
    "        result_list = [dict(row) for row in result]\n",
    "\n",
    "    return result_list"
   ]
  },
  {
   "cell_type": "code",
   "execution_count": null,
   "metadata": {},
   "outputs": [],
   "source": [
    "get_states()"
   ]
  }
 ],
 "metadata": {
  "kernelspec": {
   "display_name": "Python 3 (ipykernel)",
   "language": "python",
   "name": "python3"
  },
  "language_info": {
   "codemirror_mode": {
    "name": "ipython",
    "version": 3
   },
   "file_extension": ".py",
   "mimetype": "text/x-python",
   "name": "python",
   "nbconvert_exporter": "python",
   "pygments_lexer": "ipython3",
   "version": "3.11.4"
  },
  "nteract": {
   "version": "0.11.9"
  }
 },
 "nbformat": 4,
 "nbformat_minor": 2
}
